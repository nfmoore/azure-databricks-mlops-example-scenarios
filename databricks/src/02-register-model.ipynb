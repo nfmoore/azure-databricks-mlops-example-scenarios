{
 "cells": [
  {
   "cell_type": "markdown",
   "metadata": {
    "application/vnd.databricks.v1+cell": {
     "cellMetadata": {},
     "inputWidgets": {},
     "nuid": "58d875ff-2666-4e00-b1e6-e79b67fc8a74",
     "showTitle": false,
     "title": ""
    }
   },
   "source": [
    "# Register machine learning model\n",
    "\n",
    "This notebook outlines a workflow for registering a machine learning model from a MLFlow run. A `python_function` MLFlow model object will be created to perform classification, drift detection and outlier detection.\n"
   ]
  },
  {
   "cell_type": "markdown",
   "metadata": {
    "application/vnd.databricks.v1+cell": {
     "cellMetadata": {},
     "inputWidgets": {},
     "nuid": "61647b92-b0d0-427a-a833-5afceb5850da",
     "showTitle": false,
     "title": ""
    }
   },
   "source": [
    "#### Import dependencies, define notebook parameters and constants\n"
   ]
  },
  {
   "cell_type": "code",
   "execution_count": 0,
   "metadata": {
    "application/vnd.databricks.v1+cell": {
     "cellMetadata": {
      "byteLimit": 2048000,
      "rowLimit": 10000
     },
     "inputWidgets": {},
     "nuid": "4519bb7d-d0d5-43d8-aef8-4685782f0766",
     "showTitle": false,
     "title": ""
    }
   },
   "outputs": [],
   "source": [
    "import mlflow"
   ]
  },
  {
   "cell_type": "code",
   "execution_count": 0,
   "metadata": {
    "application/vnd.databricks.v1+cell": {
     "cellMetadata": {
      "byteLimit": 2048000,
      "rowLimit": 10000
     },
     "inputWidgets": {},
     "nuid": "83300ef4-ae69-4323-a887-be582a2b5c30",
     "showTitle": false,
     "title": ""
    }
   },
   "outputs": [],
   "source": [
    "# define notebook parameters\n",
    "dbutils.widgets.text(\"model_name\", \"credit-default-uci-sklearn\")\n",
    "\n",
    "dbutils.widgets.text(\"experiment_name\", \"/databricks-mlops-examples\")\n",
    "\n",
    "dbutils.widgets.text(\n",
    "    \"curated_dataset_table\", \"hive_metastore.default.credit_default_uci_curated\"\n",
    ")"
   ]
  },
  {
   "cell_type": "markdown",
   "metadata": {
    "application/vnd.databricks.v1+cell": {
     "cellMetadata": {},
     "inputWidgets": {},
     "nuid": "23761f9c-b3ac-4059-83d2-7c616b3fdba3",
     "showTitle": false,
     "title": ""
    }
   },
   "source": [
    "#### Register SK Learn MLFlow model\n"
   ]
  },
  {
   "cell_type": "code",
   "execution_count": 0,
   "metadata": {
    "application/vnd.databricks.v1+cell": {
     "cellMetadata": {
      "byteLimit": 2048000,
      "rowLimit": 10000
     },
     "inputWidgets": {},
     "nuid": "44065f7a-e8ce-4761-9bf4-8685b256e291",
     "showTitle": false,
     "title": ""
    }
   },
   "outputs": [],
   "source": [
    "# get best run id from task values\n",
    "best_run_id = dbutils.jobs.taskValues.get(\n",
    "    taskKey=\"train_model\", key=\"best_run_id\", debugValue=\"your-run-id\"\n",
    ")"
   ]
  },
  {
   "cell_type": "code",
   "execution_count": 0,
   "metadata": {
    "application/vnd.databricks.v1+cell": {
     "cellMetadata": {
      "byteLimit": 2048000,
      "rowLimit": 10000
     },
     "inputWidgets": {},
     "nuid": "ed93f0b0-f257-4bd9-a618-1ace25996397",
     "showTitle": false,
     "title": ""
    }
   },
   "outputs": [],
   "source": [
    "# register drift model to MLFlow model registry\n",
    "registered_model = mlflow.register_model(\n",
    "    f\"runs:/{best_run_id}/model\",\n",
    "    dbutils.widgets.get(\"model_name\"),\n",
    "    tags={\"best_classifier_model_run_id\": best_run_id},\n",
    ")"
   ]
  },
  {
   "cell_type": "markdown",
   "metadata": {
    "application/vnd.databricks.v1+cell": {
     "cellMetadata": {},
     "inputWidgets": {},
     "nuid": "19e6e87e-4e0d-4eb9-8475-2be9a0481eaa",
     "showTitle": false,
     "title": ""
    }
   },
   "source": [
    "#### Return notebook outputs\n"
   ]
  },
  {
   "cell_type": "code",
   "execution_count": 0,
   "metadata": {
    "application/vnd.databricks.v1+cell": {
     "cellMetadata": {},
     "inputWidgets": {},
     "nuid": "8e39f375-cb5a-4809-8cbb-77ef65211f5c",
     "showTitle": false,
     "title": ""
    }
   },
   "outputs": [],
   "source": [
    "# return notebook output\n",
    "model_uri = f\"models:/{registered_model.name}/{registered_model.version}\"\n",
    "dbutils.notebook.exit(model_uri)"
   ]
  }
 ],
 "metadata": {
  "application/vnd.databricks.v1+notebook": {
   "dashboards": [],
   "environmentMetadata": null,
   "language": "python",
   "notebookMetadata": {
    "pythonIndentUnit": 4
   },
   "notebookName": "02-register-model",
   "widgets": {
    "best_run_id": {
     "currentValue": "d0f99f133955485799908c9e0d84936a",
     "nuid": "0c44fa31-9c1f-4bdc-a26d-fefafed1f949",
     "typedWidgetInfo": null,
     "widgetInfo": {
      "widgetType": "text",
      "defaultValue": "",
      "label": null,
      "name": "best_run_id",
      "options": {
       "widgetType": "text",
       "autoCreated": null,
       "validationRegex": null
      }
     }
    },
    "curated_dataset_table": {
     "currentValue": "hive_metastore.default.credit_default_uci_curated",
     "nuid": "de532abb-35dc-471e-a638-99e89136e3f1",
     "typedWidgetInfo": null,
     "widgetInfo": {
      "widgetType": "text",
      "defaultValue": "hive_metastore.default.credit_default_uci_curated",
      "label": null,
      "name": "curated_dataset_table",
      "options": {
       "widgetType": "text",
       "autoCreated": null,
       "validationRegex": null
      }
     }
    },
    "experiment_name": {
     "currentValue": "/databricks-mlops-examples",
     "nuid": "1b06d156-90f3-4241-a342-8eb65c599f46",
     "typedWidgetInfo": null,
     "widgetInfo": {
      "widgetType": "text",
      "defaultValue": "/databricks-mlops-examples",
      "label": null,
      "name": "experiment_name",
      "options": {
       "widgetType": "text",
       "autoCreated": null,
       "validationRegex": null
      }
     }
    },
    "model_name": {
     "currentValue": "credit-default-uci-sklearn",
     "nuid": "7158a77e-3fce-4a95-9d99-2c3a16e88d48",
     "typedWidgetInfo": null,
     "widgetInfo": {
      "widgetType": "text",
      "defaultValue": "credit-default-uci-sklearn",
      "label": null,
      "name": "model_name",
      "options": {
       "widgetType": "text",
       "autoCreated": null,
       "validationRegex": null
      }
     }
    }
   }
  },
  "language_info": {
   "name": "python"
  }
 },
 "nbformat": 4,
 "nbformat_minor": 0
}
